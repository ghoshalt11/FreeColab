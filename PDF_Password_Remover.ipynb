{
  "nbformat": 4,
  "nbformat_minor": 0,
  "metadata": {
    "colab": {
      "provenance": [],
      "authorship_tag": "ABX9TyPjSDSSsGDQNPCjobR1GKZs",
      "include_colab_link": true
    },
    "kernelspec": {
      "name": "python3",
      "display_name": "Python 3"
    },
    "language_info": {
      "name": "python"
    }
  },
  "cells": [
    {
      "cell_type": "markdown",
      "metadata": {
        "id": "view-in-github",
        "colab_type": "text"
      },
      "source": [
        "<a href=\"https://colab.research.google.com/github/ghoshalt11/FreeColab/blob/main/PDF_Password_Remover.ipynb\" target=\"_parent\"><img src=\"https://colab.research.google.com/assets/colab-badge.svg\" alt=\"Open In Colab\"/></a>"
      ]
    },
    {
      "cell_type": "code",
      "source": [
        "!pip install pypdf"
      ],
      "metadata": {
        "colab": {
          "base_uri": "https://localhost:8080/"
        },
        "id": "XrFoq8Pr-pz5",
        "outputId": "ef7d51f0-c586-482c-da31-18f971f415ce"
      },
      "execution_count": 1,
      "outputs": [
        {
          "output_type": "stream",
          "name": "stdout",
          "text": [
            "Collecting pypdf\n",
            "  Downloading pypdf-5.9.0-py3-none-any.whl.metadata (7.1 kB)\n",
            "Downloading pypdf-5.9.0-py3-none-any.whl (313 kB)\n",
            "\u001b[?25l   \u001b[90m━━━━━━━━━━━━━━━━━━━━━━━━━━━━━━━━━━━━━━━━\u001b[0m \u001b[32m0.0/313.2 kB\u001b[0m \u001b[31m?\u001b[0m eta \u001b[36m-:--:--\u001b[0m\r\u001b[2K   \u001b[91m━━━━━━━━━━━━━\u001b[0m\u001b[90m╺\u001b[0m\u001b[90m━━━━━━━━━━━━━━━━━━━━━━━━━━\u001b[0m \u001b[32m102.4/313.2 kB\u001b[0m \u001b[31m2.9 MB/s\u001b[0m eta \u001b[36m0:00:01\u001b[0m\r\u001b[2K   \u001b[90m━━━━━━━━━━━━━━━━━━━━━━━━━━━━━━━━━━━━━━━━\u001b[0m \u001b[32m313.2/313.2 kB\u001b[0m \u001b[31m4.7 MB/s\u001b[0m eta \u001b[36m0:00:00\u001b[0m\n",
            "\u001b[?25hInstalling collected packages: pypdf\n",
            "Successfully installed pypdf-5.9.0\n"
          ]
        }
      ]
    },
    {
      "cell_type": "code",
      "execution_count": 2,
      "metadata": {
        "colab": {
          "base_uri": "https://localhost:8080/"
        },
        "id": "tzj2bS8W-J5b",
        "outputId": "3dbb7aae-ee57-41b2-dd2c-fd2e28c0be62"
      },
      "outputs": [
        {
          "output_type": "stream",
          "name": "stdout",
          "text": [
            "XXXPG0688X_2024-25_5thAUgAIS.pdf\n",
            "✅ Unlocked PDF saved as: Sathi_Ghoshal_AIS_5thAug.pdf\n"
          ]
        }
      ],
      "source": [
        "from pypdf import PdfReader, PdfWriter\n",
        "import os\n",
        "# Path to your PDF file and known password\n",
        "# file = \"Sathi_Ghoshal_2024-25_AL.pdf\"\n",
        "output_file = \"Sathi_Ghoshal_AIS_5thAug.pdf\"\n",
        "password = \"XXX\"  # Replace with actual password which is your pan_no+date_of_birth(registered on card)\n",
        "\n",
        "cwd = os.getcwd()\n",
        "cwd = os.getcwd()  # or replace with your path\n",
        "file = [f for f in os.listdir(cwd) if f.lower().endswith('.pdf')]\n",
        "file=file[0]\n",
        "print(file)\n",
        "\n",
        "\n",
        "reader = PdfReader(file)\n",
        "if reader.is_encrypted:\n",
        "    success = reader.decrypt(password)\n",
        "    if not success:\n",
        "        raise ValueError(\"❌ Incorrect password. Please check and try again.\")\n",
        "\n",
        "# Step 2: Copy pages to a new writer\n",
        "writer = PdfWriter()\n",
        "for page in reader.pages:\n",
        "    writer.add_page(page)\n",
        "\n",
        "# Step 3: Save to a new file without password\n",
        "with open(output_file, \"wb\") as f:\n",
        "    writer.write(f)\n",
        "\n",
        "print(f\"✅ Unlocked PDF saved as: {output_file}\")"
      ]
    },
    {
      "cell_type": "code",
      "source": [],
      "metadata": {
        "id": "N-NwcMPv_F34"
      },
      "execution_count": 3,
      "outputs": []
    }
  ]
}
